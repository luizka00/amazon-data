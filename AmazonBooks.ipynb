{
 "cells": [
  {
   "cell_type": "code",
   "execution_count": 239,
   "id": "c724078a-0e28-459a-9963-601f609f0152",
   "metadata": {},
   "outputs": [],
   "source": [
    "import numpy as np # linear algebra\n",
    "import pandas as pd \n",
    "import seaborn as sns\n",
    "import matplotlib.pyplot as plt"
   ]
  },
  {
   "cell_type": "code",
   "execution_count": 240,
   "id": "5fb261a5-03b3-45db-8d9b-51024705968b",
   "metadata": {},
   "outputs": [],
   "source": [
    "data = pd.read_csv(\"/Users/luizasemeniuk/Downloads/Amazon Books Data.csv\")"
   ]
  },
  {
   "cell_type": "code",
   "execution_count": 241,
   "id": "72684f82-c4da-49f4-867f-0846ca9f4eb7",
   "metadata": {},
   "outputs": [
    {
     "data": {
      "text/html": [
       "<div>\n",
       "<style scoped>\n",
       "    .dataframe tbody tr th:only-of-type {\n",
       "        vertical-align: middle;\n",
       "    }\n",
       "\n",
       "    .dataframe tbody tr th {\n",
       "        vertical-align: top;\n",
       "    }\n",
       "\n",
       "    .dataframe thead th {\n",
       "        text-align: right;\n",
       "    }\n",
       "</style>\n",
       "<table border=\"1\" class=\"dataframe\">\n",
       "  <thead>\n",
       "    <tr style=\"text-align: right;\">\n",
       "      <th></th>\n",
       "      <th>title</th>\n",
       "      <th>description</th>\n",
       "      <th>author</th>\n",
       "      <th>isbn10</th>\n",
       "      <th>isbn13</th>\n",
       "      <th>publish_date</th>\n",
       "      <th>edition</th>\n",
       "      <th>best_seller</th>\n",
       "      <th>top_rated</th>\n",
       "      <th>rating</th>\n",
       "      <th>...</th>\n",
       "      <th>Unnamed: 16</th>\n",
       "      <th>Unnamed: 17</th>\n",
       "      <th>Unnamed: 18</th>\n",
       "      <th>Unnamed: 19</th>\n",
       "      <th>Unnamed: 20</th>\n",
       "      <th>Unnamed: 21</th>\n",
       "      <th>Unnamed: 22</th>\n",
       "      <th>Unnamed: 23</th>\n",
       "      <th>Unnamed: 24</th>\n",
       "      <th>Unnamed: 25</th>\n",
       "    </tr>\n",
       "  </thead>\n",
       "  <tbody>\n",
       "    <tr>\n",
       "      <th>0</th>\n",
       "      <td>The Staff Engineer's Path</td>\n",
       "      <td>A Guide for Individual Contributors Navigating...</td>\n",
       "      <td>Tanya Reilly</td>\n",
       "      <td>1098118731</td>\n",
       "      <td>978-1098118730</td>\n",
       "      <td>2022-10-25</td>\n",
       "      <td>1</td>\n",
       "      <td>Yes</td>\n",
       "      <td>No</td>\n",
       "      <td>4.7</td>\n",
       "      <td>...</td>\n",
       "      <td>NaN</td>\n",
       "      <td>NaN</td>\n",
       "      <td>NaN</td>\n",
       "      <td>NaN</td>\n",
       "      <td>NaN</td>\n",
       "      <td>NaN</td>\n",
       "      <td>NaN</td>\n",
       "      <td>NaN</td>\n",
       "      <td>NaN</td>\n",
       "      <td>NaN</td>\n",
       "    </tr>\n",
       "    <tr>\n",
       "      <th>1</th>\n",
       "      <td>Cracking the Coding Interview</td>\n",
       "      <td>189 Programming Questions and Solutions</td>\n",
       "      <td>Gayle Laakmann McDowell</td>\n",
       "      <td>984782869</td>\n",
       "      <td>978-0984782857</td>\n",
       "      <td>2015-07-01</td>\n",
       "      <td>6</td>\n",
       "      <td>Yes</td>\n",
       "      <td>No</td>\n",
       "      <td>4.7</td>\n",
       "      <td>...</td>\n",
       "      <td>NaN</td>\n",
       "      <td>NaN</td>\n",
       "      <td>NaN</td>\n",
       "      <td>NaN</td>\n",
       "      <td>NaN</td>\n",
       "      <td>NaN</td>\n",
       "      <td>NaN</td>\n",
       "      <td>NaN</td>\n",
       "      <td>NaN</td>\n",
       "      <td>NaN</td>\n",
       "    </tr>\n",
       "    <tr>\n",
       "      <th>2</th>\n",
       "      <td>Python Crash Course, 3rd Edition</td>\n",
       "      <td>A Hands-On, Project-Based Introduction to Prog...</td>\n",
       "      <td>Eric Matthes</td>\n",
       "      <td>1718502702</td>\n",
       "      <td>978-1718502703</td>\n",
       "      <td>2023-01-10</td>\n",
       "      <td>3</td>\n",
       "      <td>Yes</td>\n",
       "      <td>No</td>\n",
       "      <td>4.8</td>\n",
       "      <td>...</td>\n",
       "      <td>NaN</td>\n",
       "      <td>NaN</td>\n",
       "      <td>NaN</td>\n",
       "      <td>NaN</td>\n",
       "      <td>NaN</td>\n",
       "      <td>NaN</td>\n",
       "      <td>NaN</td>\n",
       "      <td>NaN</td>\n",
       "      <td>NaN</td>\n",
       "      <td>NaN</td>\n",
       "    </tr>\n",
       "    <tr>\n",
       "      <th>3</th>\n",
       "      <td>The Pragmatic Programmer</td>\n",
       "      <td>20th Anniversary Edition, 2nd Edition: Your Jo...</td>\n",
       "      <td>David Thomas</td>\n",
       "      <td>NaN</td>\n",
       "      <td>978-0135957059</td>\n",
       "      <td>2019-09-13</td>\n",
       "      <td>2</td>\n",
       "      <td>Yes</td>\n",
       "      <td>No</td>\n",
       "      <td>4.8</td>\n",
       "      <td>...</td>\n",
       "      <td>NaN</td>\n",
       "      <td>NaN</td>\n",
       "      <td>NaN</td>\n",
       "      <td>NaN</td>\n",
       "      <td>NaN</td>\n",
       "      <td>NaN</td>\n",
       "      <td>NaN</td>\n",
       "      <td>NaN</td>\n",
       "      <td>NaN</td>\n",
       "      <td>NaN</td>\n",
       "    </tr>\n",
       "    <tr>\n",
       "      <th>4</th>\n",
       "      <td>Clean Code</td>\n",
       "      <td>A Handbook of Agile Software Craftsmanship</td>\n",
       "      <td>Robert C. Martin</td>\n",
       "      <td>NaN</td>\n",
       "      <td>978-0132350884</td>\n",
       "      <td>2008-08-01</td>\n",
       "      <td>1</td>\n",
       "      <td>Yes</td>\n",
       "      <td>No</td>\n",
       "      <td>4.7</td>\n",
       "      <td>...</td>\n",
       "      <td>NaN</td>\n",
       "      <td>NaN</td>\n",
       "      <td>NaN</td>\n",
       "      <td>NaN</td>\n",
       "      <td>NaN</td>\n",
       "      <td>NaN</td>\n",
       "      <td>NaN</td>\n",
       "      <td>NaN</td>\n",
       "      <td>NaN</td>\n",
       "      <td>NaN</td>\n",
       "    </tr>\n",
       "  </tbody>\n",
       "</table>\n",
       "<p>5 rows × 26 columns</p>\n",
       "</div>"
      ],
      "text/plain": [
       "                              title  \\\n",
       "0         The Staff Engineer's Path   \n",
       "1     Cracking the Coding Interview   \n",
       "2  Python Crash Course, 3rd Edition   \n",
       "3          The Pragmatic Programmer   \n",
       "4                        Clean Code   \n",
       "\n",
       "                                         description                   author  \\\n",
       "0  A Guide for Individual Contributors Navigating...             Tanya Reilly   \n",
       "1            189 Programming Questions and Solutions  Gayle Laakmann McDowell   \n",
       "2  A Hands-On, Project-Based Introduction to Prog...             Eric Matthes   \n",
       "3  20th Anniversary Edition, 2nd Edition: Your Jo...             David Thomas   \n",
       "4         A Handbook of Agile Software Craftsmanship         Robert C. Martin   \n",
       "\n",
       "       isbn10          isbn13 publish_date edition best_seller top_rated   \\\n",
       "0  1098118731  978-1098118730   2022-10-25       1         Yes         No   \n",
       "1   984782869  978-0984782857   2015-07-01       6         Yes         No   \n",
       "2  1718502702  978-1718502703   2023-01-10       3         Yes         No   \n",
       "3         NaN  978-0135957059   2019-09-13       2         Yes         No   \n",
       "4         NaN  978-0132350884   2008-08-01       1         Yes         No   \n",
       "\n",
       "  rating  ... Unnamed: 16 Unnamed: 17  Unnamed: 18  Unnamed: 19  Unnamed: 20  \\\n",
       "0    4.7  ...         NaN         NaN          NaN          NaN          NaN   \n",
       "1    4.7  ...         NaN         NaN          NaN          NaN          NaN   \n",
       "2    4.8  ...         NaN         NaN          NaN          NaN          NaN   \n",
       "3    4.8  ...         NaN         NaN          NaN          NaN          NaN   \n",
       "4    4.7  ...         NaN         NaN          NaN          NaN          NaN   \n",
       "\n",
       "   Unnamed: 21  Unnamed: 22  Unnamed: 23  Unnamed: 24  Unnamed: 25  \n",
       "0          NaN          NaN          NaN          NaN          NaN  \n",
       "1          NaN          NaN          NaN          NaN          NaN  \n",
       "2          NaN          NaN          NaN          NaN          NaN  \n",
       "3          NaN          NaN          NaN          NaN          NaN  \n",
       "4          NaN          NaN          NaN          NaN          NaN  \n",
       "\n",
       "[5 rows x 26 columns]"
      ]
     },
     "execution_count": 241,
     "metadata": {},
     "output_type": "execute_result"
    }
   ],
   "source": [
    "data.head()"
   ]
  },
  {
   "cell_type": "markdown",
   "id": "c020a485-9a4d-44f4-bdd3-b7912341f81f",
   "metadata": {},
   "source": [
    "Usuwamy puste kolumny i wiersze:"
   ]
  },
  {
   "cell_type": "code",
   "execution_count": 242,
   "id": "5212642b-92bd-4b52-9fb0-bbe3388c2e9c",
   "metadata": {},
   "outputs": [],
   "source": [
    "data.dropna(axis=1, how='all', inplace= True)"
   ]
  },
  {
   "cell_type": "code",
   "execution_count": 243,
   "id": "92289308-4193-4270-9659-3100be5e1602",
   "metadata": {},
   "outputs": [],
   "source": [
    "data.dropna(inplace=True)"
   ]
  },
  {
   "cell_type": "code",
   "execution_count": 244,
   "id": "48081ccc-ccba-448f-810d-43e0455bbd4b",
   "metadata": {},
   "outputs": [
    {
     "name": "stdout",
     "output_type": "stream",
     "text": [
      "<class 'pandas.core.frame.DataFrame'>\n",
      "Index: 293 entries, 0 to 466\n",
      "Data columns (total 12 columns):\n",
      " #   Column        Non-Null Count  Dtype \n",
      "---  ------        --------------  ----- \n",
      " 0   title         293 non-null    object\n",
      " 1   description   293 non-null    object\n",
      " 2   author        293 non-null    object\n",
      " 3   isbn10        293 non-null    object\n",
      " 4   isbn13        293 non-null    object\n",
      " 5   publish_date  293 non-null    object\n",
      " 6   edition       293 non-null    object\n",
      " 7   best_seller   293 non-null    object\n",
      " 8   top_rated     293 non-null    object\n",
      " 9   rating        293 non-null    object\n",
      " 10  review_count  293 non-null    object\n",
      " 11  price         293 non-null    object\n",
      "dtypes: object(12)\n",
      "memory usage: 29.8+ KB\n"
     ]
    }
   ],
   "source": [
    "data.info()"
   ]
  },
  {
   "cell_type": "code",
   "execution_count": 245,
   "id": "e501f2a9-2444-4005-9534-286d6639cd95",
   "metadata": {
    "scrolled": true
   },
   "outputs": [
    {
     "data": {
      "text/html": [
       "<div>\n",
       "<style scoped>\n",
       "    .dataframe tbody tr th:only-of-type {\n",
       "        vertical-align: middle;\n",
       "    }\n",
       "\n",
       "    .dataframe tbody tr th {\n",
       "        vertical-align: top;\n",
       "    }\n",
       "\n",
       "    .dataframe thead th {\n",
       "        text-align: right;\n",
       "    }\n",
       "</style>\n",
       "<table border=\"1\" class=\"dataframe\">\n",
       "  <thead>\n",
       "    <tr style=\"text-align: right;\">\n",
       "      <th></th>\n",
       "      <th>title</th>\n",
       "      <th>description</th>\n",
       "      <th>author</th>\n",
       "      <th>isbn10</th>\n",
       "      <th>isbn13</th>\n",
       "      <th>publish_date</th>\n",
       "      <th>edition</th>\n",
       "      <th>best_seller</th>\n",
       "      <th>top_rated</th>\n",
       "      <th>rating</th>\n",
       "      <th>review_count</th>\n",
       "      <th>price</th>\n",
       "    </tr>\n",
       "  </thead>\n",
       "  <tbody>\n",
       "    <tr>\n",
       "      <th>0</th>\n",
       "      <td>The Staff Engineer's Path</td>\n",
       "      <td>A Guide for Individual Contributors Navigating...</td>\n",
       "      <td>Tanya Reilly</td>\n",
       "      <td>1098118731</td>\n",
       "      <td>978-1098118730</td>\n",
       "      <td>2022-10-25</td>\n",
       "      <td>1</td>\n",
       "      <td>Yes</td>\n",
       "      <td>No</td>\n",
       "      <td>4.7</td>\n",
       "      <td>189</td>\n",
       "      <td>$31.99</td>\n",
       "    </tr>\n",
       "    <tr>\n",
       "      <th>1</th>\n",
       "      <td>Cracking the Coding Interview</td>\n",
       "      <td>189 Programming Questions and Solutions</td>\n",
       "      <td>Gayle Laakmann McDowell</td>\n",
       "      <td>984782869</td>\n",
       "      <td>978-0984782857</td>\n",
       "      <td>2015-07-01</td>\n",
       "      <td>6</td>\n",
       "      <td>Yes</td>\n",
       "      <td>No</td>\n",
       "      <td>4.7</td>\n",
       "      <td>8334</td>\n",
       "      <td>$33.21</td>\n",
       "    </tr>\n",
       "    <tr>\n",
       "      <th>2</th>\n",
       "      <td>Python Crash Course, 3rd Edition</td>\n",
       "      <td>A Hands-On, Project-Based Introduction to Prog...</td>\n",
       "      <td>Eric Matthes</td>\n",
       "      <td>1718502702</td>\n",
       "      <td>978-1718502703</td>\n",
       "      <td>2023-01-10</td>\n",
       "      <td>3</td>\n",
       "      <td>Yes</td>\n",
       "      <td>No</td>\n",
       "      <td>4.8</td>\n",
       "      <td>165</td>\n",
       "      <td>$30.61</td>\n",
       "    </tr>\n",
       "    <tr>\n",
       "      <th>6</th>\n",
       "      <td>Automate the Boring Stuff with Python, 2nd Edi...</td>\n",
       "      <td>Practical Programming for Total Beginners</td>\n",
       "      <td>Al Sweigart</td>\n",
       "      <td>1593279922</td>\n",
       "      <td>978-1593279929</td>\n",
       "      <td>2019-11-12</td>\n",
       "      <td>2</td>\n",
       "      <td>Yes</td>\n",
       "      <td>No</td>\n",
       "      <td>4.7</td>\n",
       "      <td>2858</td>\n",
       "      <td>$29.99</td>\n",
       "    </tr>\n",
       "    <tr>\n",
       "      <th>7</th>\n",
       "      <td>The Manager's Path</td>\n",
       "      <td>A Guide for Tech Leaders Navigating Growth and...</td>\n",
       "      <td>Camille Fournier</td>\n",
       "      <td>1491973897</td>\n",
       "      <td>978-1491973899</td>\n",
       "      <td>2017-05-02</td>\n",
       "      <td>1</td>\n",
       "      <td>Yes</td>\n",
       "      <td>No</td>\n",
       "      <td>4.6</td>\n",
       "      <td>2504</td>\n",
       "      <td>$30.49</td>\n",
       "    </tr>\n",
       "  </tbody>\n",
       "</table>\n",
       "</div>"
      ],
      "text/plain": [
       "                                               title  \\\n",
       "0                          The Staff Engineer's Path   \n",
       "1                      Cracking the Coding Interview   \n",
       "2                   Python Crash Course, 3rd Edition   \n",
       "6  Automate the Boring Stuff with Python, 2nd Edi...   \n",
       "7                                 The Manager's Path   \n",
       "\n",
       "                                         description                   author  \\\n",
       "0  A Guide for Individual Contributors Navigating...             Tanya Reilly   \n",
       "1            189 Programming Questions and Solutions  Gayle Laakmann McDowell   \n",
       "2  A Hands-On, Project-Based Introduction to Prog...             Eric Matthes   \n",
       "6          Practical Programming for Total Beginners              Al Sweigart   \n",
       "7  A Guide for Tech Leaders Navigating Growth and...         Camille Fournier   \n",
       "\n",
       "       isbn10          isbn13 publish_date edition best_seller top_rated   \\\n",
       "0  1098118731  978-1098118730   2022-10-25       1         Yes         No   \n",
       "1   984782869  978-0984782857   2015-07-01       6         Yes         No   \n",
       "2  1718502702  978-1718502703   2023-01-10       3         Yes         No   \n",
       "6  1593279922  978-1593279929   2019-11-12       2         Yes         No   \n",
       "7  1491973897  978-1491973899   2017-05-02       1         Yes         No   \n",
       "\n",
       "  rating review_count   price  \n",
       "0    4.7          189  $31.99  \n",
       "1    4.7         8334  $33.21  \n",
       "2    4.8          165  $30.61  \n",
       "6    4.7         2858  $29.99  \n",
       "7    4.6         2504  $30.49  "
      ]
     },
     "execution_count": 245,
     "metadata": {},
     "output_type": "execute_result"
    }
   ],
   "source": [
    "data.head()"
   ]
  },
  {
   "cell_type": "markdown",
   "id": "a0a0b3fa-117d-4130-beaf-90a5dc0d489f",
   "metadata": {},
   "source": [
    "Sprawdzimy po kolei w każdej kolumnie czy dane wymagają poprawy:"
   ]
  },
  {
   "cell_type": "code",
   "execution_count": 246,
   "id": "45f2111c-2ce9-45c9-9e54-18069216749e",
   "metadata": {},
   "outputs": [
    {
     "data": {
      "text/plain": [
       "array(['1', '6', '3', '2', '5', '4', '7', 'New', '10'], dtype=object)"
      ]
     },
     "execution_count": 246,
     "metadata": {},
     "output_type": "execute_result"
    }
   ],
   "source": [
    "data['edition'].unique()\n"
   ]
  },
  {
   "cell_type": "code",
   "execution_count": 247,
   "id": "ae004496-813c-4115-929f-6368fdae3534",
   "metadata": {},
   "outputs": [
    {
     "ename": "KeyError",
     "evalue": "'top_rated'",
     "output_type": "error",
     "traceback": [
      "\u001b[0;31m---------------------------------------------------------------------------\u001b[0m",
      "\u001b[0;31mKeyError\u001b[0m                                  Traceback (most recent call last)",
      "File \u001b[0;32m/opt/anaconda3/envs/nlp_workshops/lib/python3.9/site-packages/pandas/core/indexes/base.py:3805\u001b[0m, in \u001b[0;36mIndex.get_loc\u001b[0;34m(self, key)\u001b[0m\n\u001b[1;32m   3804\u001b[0m \u001b[38;5;28;01mtry\u001b[39;00m:\n\u001b[0;32m-> 3805\u001b[0m     \u001b[38;5;28;01mreturn\u001b[39;00m \u001b[38;5;28;43mself\u001b[39;49m\u001b[38;5;241;43m.\u001b[39;49m\u001b[43m_engine\u001b[49m\u001b[38;5;241;43m.\u001b[39;49m\u001b[43mget_loc\u001b[49m\u001b[43m(\u001b[49m\u001b[43mcasted_key\u001b[49m\u001b[43m)\u001b[49m\n\u001b[1;32m   3806\u001b[0m \u001b[38;5;28;01mexcept\u001b[39;00m \u001b[38;5;167;01mKeyError\u001b[39;00m \u001b[38;5;28;01mas\u001b[39;00m err:\n",
      "File \u001b[0;32mindex.pyx:167\u001b[0m, in \u001b[0;36mpandas._libs.index.IndexEngine.get_loc\u001b[0;34m()\u001b[0m\n",
      "File \u001b[0;32mindex.pyx:196\u001b[0m, in \u001b[0;36mpandas._libs.index.IndexEngine.get_loc\u001b[0;34m()\u001b[0m\n",
      "File \u001b[0;32mpandas/_libs/hashtable_class_helper.pxi:7081\u001b[0m, in \u001b[0;36mpandas._libs.hashtable.PyObjectHashTable.get_item\u001b[0;34m()\u001b[0m\n",
      "File \u001b[0;32mpandas/_libs/hashtable_class_helper.pxi:7089\u001b[0m, in \u001b[0;36mpandas._libs.hashtable.PyObjectHashTable.get_item\u001b[0;34m()\u001b[0m\n",
      "\u001b[0;31mKeyError\u001b[0m: 'top_rated'",
      "\nThe above exception was the direct cause of the following exception:\n",
      "\u001b[0;31mKeyError\u001b[0m                                  Traceback (most recent call last)",
      "Cell \u001b[0;32mIn[247], line 1\u001b[0m\n\u001b[0;32m----> 1\u001b[0m \u001b[43mdata\u001b[49m\u001b[43m[\u001b[49m\u001b[38;5;124;43m'\u001b[39;49m\u001b[38;5;124;43mtop_rated\u001b[39;49m\u001b[38;5;124;43m'\u001b[39;49m\u001b[43m]\u001b[49m\u001b[38;5;241m.\u001b[39munique() \n",
      "File \u001b[0;32m/opt/anaconda3/envs/nlp_workshops/lib/python3.9/site-packages/pandas/core/frame.py:4102\u001b[0m, in \u001b[0;36mDataFrame.__getitem__\u001b[0;34m(self, key)\u001b[0m\n\u001b[1;32m   4100\u001b[0m \u001b[38;5;28;01mif\u001b[39;00m \u001b[38;5;28mself\u001b[39m\u001b[38;5;241m.\u001b[39mcolumns\u001b[38;5;241m.\u001b[39mnlevels \u001b[38;5;241m>\u001b[39m \u001b[38;5;241m1\u001b[39m:\n\u001b[1;32m   4101\u001b[0m     \u001b[38;5;28;01mreturn\u001b[39;00m \u001b[38;5;28mself\u001b[39m\u001b[38;5;241m.\u001b[39m_getitem_multilevel(key)\n\u001b[0;32m-> 4102\u001b[0m indexer \u001b[38;5;241m=\u001b[39m \u001b[38;5;28;43mself\u001b[39;49m\u001b[38;5;241;43m.\u001b[39;49m\u001b[43mcolumns\u001b[49m\u001b[38;5;241;43m.\u001b[39;49m\u001b[43mget_loc\u001b[49m\u001b[43m(\u001b[49m\u001b[43mkey\u001b[49m\u001b[43m)\u001b[49m\n\u001b[1;32m   4103\u001b[0m \u001b[38;5;28;01mif\u001b[39;00m is_integer(indexer):\n\u001b[1;32m   4104\u001b[0m     indexer \u001b[38;5;241m=\u001b[39m [indexer]\n",
      "File \u001b[0;32m/opt/anaconda3/envs/nlp_workshops/lib/python3.9/site-packages/pandas/core/indexes/base.py:3812\u001b[0m, in \u001b[0;36mIndex.get_loc\u001b[0;34m(self, key)\u001b[0m\n\u001b[1;32m   3807\u001b[0m     \u001b[38;5;28;01mif\u001b[39;00m \u001b[38;5;28misinstance\u001b[39m(casted_key, \u001b[38;5;28mslice\u001b[39m) \u001b[38;5;129;01mor\u001b[39;00m (\n\u001b[1;32m   3808\u001b[0m         \u001b[38;5;28misinstance\u001b[39m(casted_key, abc\u001b[38;5;241m.\u001b[39mIterable)\n\u001b[1;32m   3809\u001b[0m         \u001b[38;5;129;01mand\u001b[39;00m \u001b[38;5;28many\u001b[39m(\u001b[38;5;28misinstance\u001b[39m(x, \u001b[38;5;28mslice\u001b[39m) \u001b[38;5;28;01mfor\u001b[39;00m x \u001b[38;5;129;01min\u001b[39;00m casted_key)\n\u001b[1;32m   3810\u001b[0m     ):\n\u001b[1;32m   3811\u001b[0m         \u001b[38;5;28;01mraise\u001b[39;00m InvalidIndexError(key)\n\u001b[0;32m-> 3812\u001b[0m     \u001b[38;5;28;01mraise\u001b[39;00m \u001b[38;5;167;01mKeyError\u001b[39;00m(key) \u001b[38;5;28;01mfrom\u001b[39;00m \u001b[38;5;21;01merr\u001b[39;00m\n\u001b[1;32m   3813\u001b[0m \u001b[38;5;28;01mexcept\u001b[39;00m \u001b[38;5;167;01mTypeError\u001b[39;00m:\n\u001b[1;32m   3814\u001b[0m     \u001b[38;5;66;03m# If we have a listlike key, _check_indexing_error will raise\u001b[39;00m\n\u001b[1;32m   3815\u001b[0m     \u001b[38;5;66;03m#  InvalidIndexError. Otherwise we fall through and re-raise\u001b[39;00m\n\u001b[1;32m   3816\u001b[0m     \u001b[38;5;66;03m#  the TypeError.\u001b[39;00m\n\u001b[1;32m   3817\u001b[0m     \u001b[38;5;28mself\u001b[39m\u001b[38;5;241m.\u001b[39m_check_indexing_error(key)\n",
      "\u001b[0;31mKeyError\u001b[0m: 'top_rated'"
     ]
    }
   ],
   "source": [
    "data['top_rated'].unique() "
   ]
  },
  {
   "cell_type": "code",
   "execution_count": 248,
   "id": "05f9c2b2-776d-4631-8baa-7cad48fc0438",
   "metadata": {},
   "outputs": [],
   "source": [
    "data.rename(columns={'top_rated ': 'top_rated'}, inplace=True) #usuwam spację w nazwie kolumny"
   ]
  },
  {
   "cell_type": "code",
   "execution_count": null,
   "id": "0650a4fa-bb72-4b3f-95d7-ff12e35d2294",
   "metadata": {},
   "outputs": [],
   "source": [
    "print(data.columns.tolist()) "
   ]
  },
  {
   "cell_type": "code",
   "execution_count": null,
   "id": "8735d148-c4bb-4064-947a-f98082ea5bc2",
   "metadata": {},
   "outputs": [],
   "source": [
    "data['best_seller'].unique()"
   ]
  },
  {
   "cell_type": "code",
   "execution_count": null,
   "id": "4598e6b6-2efa-4ef4-826e-e769036cfad3",
   "metadata": {},
   "outputs": [],
   "source": [
    "data['rating'].unique()"
   ]
  },
  {
   "cell_type": "code",
   "execution_count": null,
   "id": "4d39d835-5f62-481a-b312-b5741a47cb18",
   "metadata": {},
   "outputs": [],
   "source": [
    "data['review_count'].unique()"
   ]
  },
  {
   "cell_type": "code",
   "execution_count": null,
   "id": "68567d6c-378a-43f9-82cd-bff354aab263",
   "metadata": {},
   "outputs": [],
   "source": [
    "data['price'].unique()"
   ]
  },
  {
   "cell_type": "code",
   "execution_count": null,
   "id": "916d21b9-741e-41cd-95ad-c4b19fb3cb25",
   "metadata": {},
   "outputs": [],
   "source": [
    "data['top_rated'].unique()"
   ]
  },
  {
   "cell_type": "markdown",
   "id": "2d3bdbc7-caa0-4e8a-a4dc-a9b58ff432bc",
   "metadata": {},
   "source": [
    "Funkcja czyszcząca dane:"
   ]
  },
  {
   "cell_type": "code",
   "execution_count": 249,
   "id": "e12e730d-1772-48d7-8c4c-e13ce11dbccb",
   "metadata": {},
   "outputs": [],
   "source": [
    "def clean_data(data):\n",
    "    data['best_seller'] = data['best_seller'].astype(str).str.replace('no', 'No').str.replace('yes', 'Yes').str.replace('NO', 'No').str.replace('YES', 'Yes')\n",
    "    data['rating'] = data['rating'].astype(str).str.replace('$','').astype(float)\n",
    "    data['price']= data['price'].astype(str).str.replace('$','').astype(float)\n",
    "    data['review_count']= data['review_count'].astype(str).str.replace(',','').astype(int)\n",
    "    data['top_rated']= data['top_rated'].astype(str).str.replace('NO','No')"
   ]
  },
  {
   "cell_type": "code",
   "execution_count": 250,
   "id": "e75ccaed-d20c-4bd8-9723-df4fe5adf767",
   "metadata": {},
   "outputs": [],
   "source": [
    "clean_data(data)"
   ]
  },
  {
   "cell_type": "code",
   "execution_count": null,
   "id": "a4d63572-f8f1-44e2-a72c-f432d21a5845",
   "metadata": {},
   "outputs": [],
   "source": [
    "data.head()"
   ]
  },
  {
   "cell_type": "markdown",
   "id": "8f0a88ea-eaa1-46a1-bbb2-aead0ac16b17",
   "metadata": {},
   "source": [
    "Przedstawimy na wykresie top 10 autorów, którzy napisali najwięcej bestsellerów: \n",
    "liczymy ilość bestsellerów dla każdego autora:"
   ]
  },
  {
   "cell_type": "code",
   "execution_count": null,
   "id": "4d9a6b28-b157-4011-9759-eb50ed976ced",
   "metadata": {},
   "outputs": [],
   "source": [
    "bestsellery_top= data.groupby('author')['best_seller'].apply(lambda x: (x == 'Yes').sum())"
   ]
  },
  {
   "cell_type": "markdown",
   "id": "cedfb770-9ab0-4944-a69f-6a44d3bd49d2",
   "metadata": {},
   "source": [
    "Sortujemy malejąco:"
   ]
  },
  {
   "cell_type": "code",
   "execution_count": null,
   "id": "2a6ffe06-6493-4235-915d-1168bf34edca",
   "metadata": {},
   "outputs": [],
   "source": [
    "bestsellery_top.sort_values(ascending= False)"
   ]
  },
  {
   "cell_type": "code",
   "execution_count": null,
   "id": "bb571687-52ea-440b-9fa8-8f3b61f8bd62",
   "metadata": {},
   "outputs": [],
   "source": [
    "top10= bestsellery_top.sort_values(ascending= False).head(10)\n",
    "print(top10)"
   ]
  },
  {
   "cell_type": "markdown",
   "id": "e41a14dd-86a1-41d6-97fd-d27cdcc045db",
   "metadata": {},
   "source": [
    "Powalające liczby :))"
   ]
  },
  {
   "cell_type": "markdown",
   "id": "3610d59f-787b-42d2-8a9b-5a19d0f918c5",
   "metadata": {},
   "source": [
    "Wykres:"
   ]
  },
  {
   "cell_type": "code",
   "execution_count": null,
   "id": "a36beca3-85c5-421c-8563-37c2b066e1e0",
   "metadata": {},
   "outputs": [],
   "source": [
    "top10.plot(kind='bar', title='Autorzy z największa liczbą napisanych bestsellerów', color='blue')\n",
    "plt.xlabel('Autorzy')\n",
    "plt.ylabel('Liczba bestsellerów')\n",
    "plt.show()"
   ]
  },
  {
   "cell_type": "markdown",
   "id": "84b59c24-5313-4ba0-8b1e-0e33e72673a5",
   "metadata": {},
   "source": [
    "Teraz zbadamy 'bestsellerowość' książek a inne zmienne. Weźmiemy pod uwagę cenę, sumę opinii i średnie opinie."
   ]
  },
  {
   "cell_type": "markdown",
   "id": "83829121-ce5c-43da-90e6-1d9f0c2f7609",
   "metadata": {},
   "source": [
    "1. Średnia ilość opinii dla bestsellerów vs innych książek:"
   ]
  },
  {
   "cell_type": "code",
   "execution_count": null,
   "id": "63b93f7e-b2dd-4872-b1ac-0c289ae02478",
   "metadata": {},
   "outputs": [],
   "source": [
    "opinie_ilosc= data.groupby('best_seller')['review_count'].mean()"
   ]
  },
  {
   "cell_type": "code",
   "execution_count": null,
   "id": "e628d87e-8bbc-437c-b84d-5763b6f7509e",
   "metadata": {},
   "outputs": [],
   "source": [
    "opinie_ilosc.plot(kind='bar',  color='skyblue')\n",
    "plt.xlabel('Czy bestseller?') \n",
    "plt.ylabel('Średnia ilość opinii')  \n",
    "plt.show()"
   ]
  },
  {
   "cell_type": "markdown",
   "id": "54288ea6-0af6-40a3-a026-4f2a67792628",
   "metadata": {},
   "source": [
    "Ewidentnie bestsellery są bardziej popularne wśród czytelników niż nie-bestsellery."
   ]
  },
  {
   "cell_type": "markdown",
   "id": "8eca1aa0-54a9-4598-b059-1c408bcdf8f8",
   "metadata": {},
   "source": [
    "2. Średnie opinie- od jakiej średniej opinii zaczyna się bestseller? Sprawdzamy:"
   ]
  },
  {
   "cell_type": "code",
   "execution_count": null,
   "id": "8f208992-b20a-4b64-ac06-5625a26a7987",
   "metadata": {},
   "outputs": [],
   "source": [
    "bestseller_minimum = data.groupby('best_seller').rating.min()"
   ]
  },
  {
   "cell_type": "code",
   "execution_count": null,
   "id": "5eefcc63-74a9-414d-8dc0-a977b16dd130",
   "metadata": {},
   "outputs": [],
   "source": [
    "bestseller_minimum"
   ]
  },
  {
   "cell_type": "markdown",
   "id": "2488189e-6dee-4392-8e3b-9fc229d12519",
   "metadata": {},
   "source": [
    "Czyli bestsellery mają rating minimum 3.7"
   ]
  },
  {
   "cell_type": "markdown",
   "id": "c05d035a-30a4-449f-b33a-dedd5c1fd8a0",
   "metadata": {},
   "source": [
    "3. Jaka jest średnia opinii o bestsellerach na tle innych książek?\n"
   ]
  },
  {
   "cell_type": "code",
   "execution_count": null,
   "id": "153df09a-cdcd-4bca-bcb4-cb295854d468",
   "metadata": {},
   "outputs": [],
   "source": [
    "bestseller_srednia= data.groupby('best_seller').rating.mean()"
   ]
  },
  {
   "cell_type": "code",
   "execution_count": null,
   "id": "c11df16c-bdd3-4888-b38d-9b14639d2f6a",
   "metadata": {},
   "outputs": [],
   "source": [
    "sns.barplot(x=bestseller_srednia.index, y=bestseller_srednia.values, palette='coolwarm')  # Custom color palette\n",
    "plt.title(\"Średnia ocena bestsellerów a innych książek\")\n",
    "plt.xlabel(\"Czy bestseller?\")\n",
    "plt.ylabel(\"Średnia ocena\")\n"
   ]
  },
  {
   "cell_type": "markdown",
   "id": "25d592ce-0851-4412-a3dc-bc6ab5b1dcf9",
   "metadata": {},
   "source": [
    "Średnia ocena różni się na korzyść bestsellerów, ale tylko nieznacznie."
   ]
  },
  {
   "cell_type": "markdown",
   "id": "91d8afea-3685-4a3c-b117-1f477f5910ca",
   "metadata": {},
   "source": [
    "Czy bestsellery są wydawane średnio więcej razy niż inne pozycje?"
   ]
  },
  {
   "cell_type": "code",
   "execution_count": 251,
   "id": "33624f3e-b03e-44ed-8c3a-376a3a2ad7bd",
   "metadata": {},
   "outputs": [],
   "source": [
    "#usuwamy 'new' z edycji i zamieniamy na int zeby obliczyc srednią:\n",
    "data['edition']= data['edition'].astype(str).replace('New','2').astype(int) #założyłam, że 'nowa' edycja bez specyfikacji która to konkrenie edycja jest druga. "
   ]
  },
  {
   "cell_type": "code",
   "execution_count": 252,
   "id": "55719571-c3ba-444b-9398-5c2129dc7ff7",
   "metadata": {},
   "outputs": [],
   "source": [
    "bestseller_edycje= data.groupby('best_seller').edition.mean()"
   ]
  },
  {
   "cell_type": "code",
   "execution_count": 253,
   "id": "a909fc3c-f2c5-421f-a161-20771737ae91",
   "metadata": {},
   "outputs": [
    {
     "data": {
      "image/png": "[encoded data removed]",
      "text/plain": [
       "<Figure size 640x480 with 1 Axes>"
      ]
     },
     "metadata": {},
     "output_type": "display_data"
    }
   ],
   "source": [
    "bestseller_edycje.plot(kind='bar',  color='skyblue')\n",
    "plt.xlabel('Czy bestseller?') \n",
    "plt.ylabel('Średnia ilość edycji')  \n",
    "plt.show()"
   ]
  },
  {
   "cell_type": "code",
   "execution_count": null,
   "id": "136702be-116e-4b44-8be4-869fe2716818",
   "metadata": {},
   "outputs": [],
   "source": [
    "Bestsellery mają "
   ]
  }
 ],
 "metadata": {
  "kernelspec": {
   "display_name": "nlp_workshops",
   "language": "python",
   "name": "nlp_workshops"
  },
  "language_info": {
   "codemirror_mode": {
    "name": "ipython",
    "version": 3
   },
   "file_extension": ".py",
   "mimetype": "text/x-python",
   "name": "python",
   "nbconvert_exporter": "python",
   "pygments_lexer": "ipython3",
   "version": "3.9.19"
  }
 },
 "nbformat": 4,
 "nbformat_minor": 5
}
